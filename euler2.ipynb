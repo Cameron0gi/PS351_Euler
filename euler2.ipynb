{
 "cells": [
  {
   "cell_type": "code",
   "execution_count": 1,
   "id": "89c19168",
   "metadata": {},
   "outputs": [],
   "source": [
    "import pandas as pd\n",
    "import numpy as np\n",
    "import matplotlib.pyplot as plt\n",
    "import sys\n",
    "from IPython.display import display"
   ]
  },
  {
   "cell_type": "code",
   "execution_count": 2,
   "id": "86b615d5",
   "metadata": {},
   "outputs": [],
   "source": [
    "def func1(x,t):\n",
    "    return(t-(x*x))"
   ]
  },
  {
   "cell_type": "code",
   "execution_count": 3,
   "id": "4e097de5",
   "metadata": {},
   "outputs": [],
   "source": [
    "import math\n",
    "\n",
    "def datagen(n, filename):\n",
    "    dt=0.01\n",
    "    tmax=450\n",
    "    tau=2.0\n",
    "    t=0\n",
    "\n",
    "    while(abs(t-tmax) > (dt/2)):\n",
    "        with open(f'{filename}', 'a') as f:\n",
    "            f.write(str(t)+'\\n')\n",
    "            f.write(str(n)+'\\n')\n",
    "        n=n+dt*func1(n,t)\n",
    "        t=t+dt\n",
    "    "
   ]
  },
  {
   "cell_type": "code",
   "execution_count": 4,
   "id": "944490e0",
   "metadata": {},
   "outputs": [],
   "source": [
    "def datagen2(n, filename):\n",
    "    dt=0.01\n",
    "    tmax=450\n",
    "    t=0\n",
    "    n=0\n",
    "    \n",
    "    while(abs(t-tmax) > (dt/2)):\n",
    "        with open(f'{filename}', 'a') as f:\n",
    "            f.write(str(t)+'\\n')\n",
    "            f.write(str(n)+'\\n')\n",
    "        t=t+dt\n",
    "        n=math.sqrt(t)"
   ]
  },
  {
   "cell_type": "code",
   "execution_count": 5,
   "id": "c5372839",
   "metadata": {},
   "outputs": [],
   "source": [
    "def datapreptime(d):\n",
    "    i=0\n",
    "    o1=[]\n",
    "    while i < len(d):\n",
    "        if (i%2)==0 or (i==0):\n",
    "            o1.append(d[i])\n",
    "        i=i+1\n",
    "    \n",
    "    return(np.concatenate(o1))\n",
    "\n",
    "def dataprepvalue(d):\n",
    "    i=0\n",
    "    o1=[]\n",
    "    while i < len(d):\n",
    "        if (i%2)>0:\n",
    "            o1.append(d[i])\n",
    "        i=i+1\n",
    "    \n",
    "    return(np.concatenate(o1))"
   ]
  },
  {
   "cell_type": "code",
   "execution_count": null,
   "id": "2a5fb446",
   "metadata": {},
   "outputs": [],
   "source": []
  },
  {
   "cell_type": "code",
   "execution_count": 6,
   "id": "f039c7d1",
   "metadata": {},
   "outputs": [],
   "source": [
    "def plotec(data, data2, data3, data4, data6, filename):\n",
    "\n",
    "    fig1 = plt.figure()\n",
    "    ax1 = fig1.add_subplot()  \n",
    "    \n",
    "    l1, = ax1.plot(datapreptime(data), dataprepvalue(data))           \n",
    "    l2, = ax1.plot(datapreptime(data2), dataprepvalue(data2))\n",
    "    l3, = ax1.plot(datapreptime(data3), dataprepvalue(data3))\n",
    "    l4, = ax1.plot(datapreptime(data4), dataprepvalue(data4))\n",
    "    l6, = ax1.plot(datapreptime(data6), dataprepvalue(data6))\n",
    "    \n",
    "    ax1.set_xlim(0, 450)\n",
    "\n",
    "    legend = (ax1.legend([l1, l2, l3, l4, l6], [3, 1, 0, -0.7, '√t']))\n",
    "    ax1.get_legend().set_title(\"x0\")\n",
    "\n",
    "    plt.xlabel(\"Time (s)\")\n",
    "    plt.ylabel(\"x\")\n",
    "    plt.savefig(f\"{filename}\", format=\"svg\")\n",
    "    \n",
    "    plt.show()"
   ]
  },
  {
   "cell_type": "code",
   "execution_count": 7,
   "id": "7753e363",
   "metadata": {},
   "outputs": [],
   "source": [
    "datagen(3, \"e2data_x3.txt\")\n",
    "\n",
    "data=pd.read_csv(\"e2data_x3.txt\", delimiter='\\t', header=None)\n",
    "data=data.to_numpy()"
   ]
  },
  {
   "cell_type": "code",
   "execution_count": 8,
   "id": "8819956d",
   "metadata": {
    "scrolled": true
   },
   "outputs": [
    {
     "data": {
      "text/plain": [
       "[<matplotlib.lines.Line2D at 0x1fe571254f0>]"
      ]
     },
     "execution_count": 8,
     "metadata": {},
     "output_type": "execute_result"
    },
    {
     "data": {
      "image/png": "[encoded data removed]",
      "text/plain": [
       "<Figure size 432x288 with 1 Axes>"
      ]
     },
     "metadata": {
      "needs_background": "light"
     },
     "output_type": "display_data"
    }
   ],
   "source": [
    "plt.plot(datapreptime(data), dataprepvalue(data))"
   ]
  },
  {
   "cell_type": "code",
   "execution_count": 9,
   "id": "b5c9bc68",
   "metadata": {},
   "outputs": [],
   "source": [
    "datagen(1, \"e2data_x1.txt\")\n",
    "\n",
    "data2=pd.read_csv(\"e2data_x1.txt\", delimiter='\\t', header=None)\n",
    "data2=data2.to_numpy()"
   ]
  },
  {
   "cell_type": "code",
   "execution_count": 10,
   "id": "630a471f",
   "metadata": {},
   "outputs": [],
   "source": [
    "datagen(0, \"e2data_x0.txt\")\n",
    "\n",
    "data3=pd.read_csv(\"e2data_x0.txt\", delimiter='\\t', header=None)\n",
    "data3=data3.to_numpy()"
   ]
  },
  {
   "cell_type": "code",
   "execution_count": 11,
   "id": "2316aace",
   "metadata": {},
   "outputs": [],
   "source": [
    "datagen(-0.7, \"e2data_x7.txt\")\n",
    "\n",
    "data4=pd.read_csv(\"e2data_x7.txt\", delimiter='\\t', header=None)\n",
    "data4=data4.to_numpy()"
   ]
  },
  {
   "cell_type": "code",
   "execution_count": 12,
   "id": "a3d5786e",
   "metadata": {},
   "outputs": [],
   "source": [
    "datagen(-0.75, \"e2data_x75.txt\")\n",
    "\n",
    "data5=pd.read_csv(\"e2data_x75.txt\", delimiter='\\t', header=None)\n",
    "data5=data5.to_numpy()"
   ]
  },
  {
   "cell_type": "code",
   "execution_count": 13,
   "id": "5c21da00",
   "metadata": {
    "scrolled": true
   },
   "outputs": [],
   "source": [
    "datagen2(0, \"e2data_time.txt\")\n",
    "\n",
    "data6=pd.read_csv(\"e2data_time.txt\", delimiter='\\t', header=None)\n",
    "data6=data6.to_numpy()"
   ]
  },
  {
   "cell_type": "code",
   "execution_count": 14,
   "id": "15d87c64",
   "metadata": {},
   "outputs": [
    {
     "data": {
      "image/png": "[encoded data removed]",
      "text/plain": [
       "<Figure size 432x288 with 1 Axes>"
      ]
     },
     "metadata": {
      "needs_background": "light"
     },
     "output_type": "display_data"
    }
   ],
   "source": [
    "plotec(data, data2, data3, data4, data6, \"e2_4.svg\")"
   ]
  }
 ],
 "metadata": {
  "kernelspec": {
   "display_name": "Python 3 (ipykernel)",
   "language": "python",
   "name": "python3"
  },
  "language_info": {
   "codemirror_mode": {
    "name": "ipython",
    "version": 3
   },
   "file_extension": ".py",
   "mimetype": "text/x-python",
   "name": "python",
   "nbconvert_exporter": "python",
   "pygments_lexer": "ipython3",
   "version": "3.9.12"
  }
 },
 "nbformat": 4,
 "nbformat_minor": 5
}
