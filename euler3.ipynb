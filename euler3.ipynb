{
 "cells": [
  {
   "cell_type": "code",
   "execution_count": 1,
   "id": "89c19168",
   "metadata": {},
   "outputs": [],
   "source": [
    "import pandas as pd\n",
    "import numpy as np\n",
    "import matplotlib.pyplot as plt\n",
    "import sys\n",
    "from IPython.display import display"
   ]
  },
  {
   "cell_type": "code",
   "execution_count": 2,
   "id": "86b615d5",
   "metadata": {},
   "outputs": [],
   "source": [
    "def func1(x,t):\n",
    "    return(t-(x*x))"
   ]
  },
  {
   "cell_type": "code",
   "execution_count": 12,
   "id": "4e097de5",
   "metadata": {},
   "outputs": [],
   "source": [
    "import math\n",
    "\n",
    "def datagen(n, filename):\n",
    "    dt=n\n",
    "    tmax=5*2*np.pi\n",
    "    x=0\n",
    "    y=1\n",
    "    t=0\n",
    "\n",
    "    while(abs(t-tmax) > (dt/2)):\n",
    "        with open(f'{filename}', 'a') as f:\n",
    "            f.write(str(t)+'\\n')\n",
    "            f.write(str(x)+'\\n')\n",
    "            f.write(str(y)+'\\n')\n",
    "        x=x+y\n",
    "        y=y-x\n",
    "        t=t+dt\n",
    "    "
   ]
  },
  {
   "cell_type": "code",
   "execution_count": 13,
   "id": "c5372839",
   "metadata": {},
   "outputs": [],
   "source": [
    "def datapreptime(d):\n",
    "    i=0\n",
    "    o1=[]\n",
    "    while i < len(d):\n",
    "        o1.append(d[i])\n",
    "        i=i+3\n",
    "    \n",
    "    return(np.concatenate(o1))\n",
    "\n",
    "def dataprepx(d):\n",
    "    i=1\n",
    "    o1=[]\n",
    "    while i < len(d):\n",
    "        o1.append(d[i])\n",
    "        i=i+3\n",
    "    \n",
    "    return(np.concatenate(o1))\n",
    "\n",
    "def dataprepy(d):\n",
    "    i=2\n",
    "    o1=[]\n",
    "    while i < len(d):\n",
    "        o1.append(d[i])\n",
    "        i=i+3\n",
    "    \n",
    "    return(np.concatenate(o1))"
   ]
  },
  {
   "cell_type": "code",
   "execution_count": null,
   "id": "2a5fb446",
   "metadata": {},
   "outputs": [],
   "source": []
  },
  {
   "cell_type": "code",
   "execution_count": 44,
   "id": "f039c7d1",
   "metadata": {},
   "outputs": [],
   "source": [
    "def plotec(data, filename):\n",
    "\n",
    "    fig1 = plt.figure()\n",
    "    ax1 = fig1.add_subplot()  \n",
    "    \n",
    "    l1, = ax1.plot(datapreptime(data), dataprepx(data))\n",
    "    l2, = ax1.plot(datapreptime(data), dataprepy(data))\n",
    "    legend = (ax1.legend([l1, l2], ['x', 'y']))\n",
    "    \n",
    "    ax1.set_ylim(-2, 2)\n",
    "    ax1.set_xlim(0, 5*2*np.pi)\n",
    "    \n",
    "  \n",
    "\n",
    "    plt.xlabel(\"Time (s)\")\n",
    "    plt.ylabel(\"x\")\n",
    "    plt.savefig(f\"{filename}\", format=\"svg\")\n",
    "    \n",
    "    plt.show()"
   ]
  },
  {
   "cell_type": "code",
   "execution_count": 54,
   "id": "7753e363",
   "metadata": {},
   "outputs": [],
   "source": [
    "datagen(1, \"e3_1.txt\")\n",
    "\n",
    "data=pd.read_csv(\"e3_1.txt\", delimiter='\\t', header=None)\n",
    "data=data.to_numpy()"
   ]
  },
  {
   "cell_type": "code",
   "execution_count": 55,
   "id": "15d87c64",
   "metadata": {
    "scrolled": false
   },
   "outputs": [
    {
     "data": {
      "image/png": "[encoded data removed]",
      "text/plain": [
       "<Figure size 432x288 with 1 Axes>"
      ]
     },
     "metadata": {
      "needs_background": "light"
     },
     "output_type": "display_data"
    }
   ],
   "source": [
    "plotec(data, \"e3_1.svg\")"
   ]
  }
 ],
 "metadata": {
  "kernelspec": {
   "display_name": "Python 3 (ipykernel)",
   "language": "python",
   "name": "python3"
  },
  "language_info": {
   "codemirror_mode": {
    "name": "ipython",
    "version": 3
   },
   "file_extension": ".py",
   "mimetype": "text/x-python",
   "name": "python",
   "nbconvert_exporter": "python",
   "pygments_lexer": "ipython3",
   "version": "3.9.12"
  }
 },
 "nbformat": 4,
 "nbformat_minor": 5
}
